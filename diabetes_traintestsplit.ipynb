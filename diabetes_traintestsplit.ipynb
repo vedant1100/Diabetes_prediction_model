{
 "cells": [
  {
   "cell_type": "code",
   "execution_count": 1,
   "id": "353b4d5d",
   "metadata": {
    "_cell_guid": "b1076dfc-b9ad-4769-8c92-a6c4dae69d19",
    "_uuid": "8f2839f25d086af736a60e9eeb907d3b93b6e0e5",
    "execution": {
     "iopub.execute_input": "2023-04-15T11:41:41.536611Z",
     "iopub.status.busy": "2023-04-15T11:41:41.535079Z",
     "iopub.status.idle": "2023-04-15T11:41:41.790721Z",
     "shell.execute_reply": "2023-04-15T11:41:41.789227Z"
    },
    "papermill": {
     "duration": 0.268229,
     "end_time": "2023-04-15T11:41:41.794625",
     "exception": false,
     "start_time": "2023-04-15T11:41:41.526396",
     "status": "completed"
    },
    "tags": []
   },
   "outputs": [
    {
     "data": {
      "text/html": [
       "<div>\n",
       "<style scoped>\n",
       "    .dataframe tbody tr th:only-of-type {\n",
       "        vertical-align: middle;\n",
       "    }\n",
       "\n",
       "    .dataframe tbody tr th {\n",
       "        vertical-align: top;\n",
       "    }\n",
       "\n",
       "    .dataframe thead th {\n",
       "        text-align: right;\n",
       "    }\n",
       "</style>\n",
       "<table border=\"1\" class=\"dataframe\">\n",
       "  <thead>\n",
       "    <tr style=\"text-align: right;\">\n",
       "      <th></th>\n",
       "      <th>Pregnancies</th>\n",
       "      <th>Glucose</th>\n",
       "      <th>BloodPressure</th>\n",
       "      <th>SkinThickness</th>\n",
       "      <th>Insulin</th>\n",
       "      <th>BMI</th>\n",
       "      <th>DiabetesPedigreeFunction</th>\n",
       "      <th>Age</th>\n",
       "      <th>Outcome</th>\n",
       "    </tr>\n",
       "  </thead>\n",
       "  <tbody>\n",
       "    <tr>\n",
       "      <th>0</th>\n",
       "      <td>6</td>\n",
       "      <td>148</td>\n",
       "      <td>72</td>\n",
       "      <td>35</td>\n",
       "      <td>0</td>\n",
       "      <td>33.6</td>\n",
       "      <td>0.627</td>\n",
       "      <td>50</td>\n",
       "      <td>1</td>\n",
       "    </tr>\n",
       "    <tr>\n",
       "      <th>1</th>\n",
       "      <td>1</td>\n",
       "      <td>85</td>\n",
       "      <td>66</td>\n",
       "      <td>29</td>\n",
       "      <td>0</td>\n",
       "      <td>26.6</td>\n",
       "      <td>0.351</td>\n",
       "      <td>31</td>\n",
       "      <td>0</td>\n",
       "    </tr>\n",
       "    <tr>\n",
       "      <th>2</th>\n",
       "      <td>8</td>\n",
       "      <td>183</td>\n",
       "      <td>64</td>\n",
       "      <td>0</td>\n",
       "      <td>0</td>\n",
       "      <td>23.3</td>\n",
       "      <td>0.672</td>\n",
       "      <td>32</td>\n",
       "      <td>1</td>\n",
       "    </tr>\n",
       "    <tr>\n",
       "      <th>3</th>\n",
       "      <td>1</td>\n",
       "      <td>89</td>\n",
       "      <td>66</td>\n",
       "      <td>23</td>\n",
       "      <td>94</td>\n",
       "      <td>28.1</td>\n",
       "      <td>0.167</td>\n",
       "      <td>21</td>\n",
       "      <td>0</td>\n",
       "    </tr>\n",
       "    <tr>\n",
       "      <th>4</th>\n",
       "      <td>0</td>\n",
       "      <td>137</td>\n",
       "      <td>40</td>\n",
       "      <td>35</td>\n",
       "      <td>168</td>\n",
       "      <td>43.1</td>\n",
       "      <td>2.288</td>\n",
       "      <td>33</td>\n",
       "      <td>1</td>\n",
       "    </tr>\n",
       "  </tbody>\n",
       "</table>\n",
       "</div>"
      ],
      "text/plain": [
       "   Pregnancies  Glucose  BloodPressure  SkinThickness  Insulin   BMI  \\\n",
       "0            6      148             72             35        0  33.6   \n",
       "1            1       85             66             29        0  26.6   \n",
       "2            8      183             64              0        0  23.3   \n",
       "3            1       89             66             23       94  28.1   \n",
       "4            0      137             40             35      168  43.1   \n",
       "\n",
       "   DiabetesPedigreeFunction  Age  Outcome  \n",
       "0                     0.627   50        1  \n",
       "1                     0.351   31        0  \n",
       "2                     0.672   32        1  \n",
       "3                     0.167   21        0  \n",
       "4                     2.288   33        1  "
      ]
     },
     "execution_count": 1,
     "metadata": {},
     "output_type": "execute_result"
    }
   ],
   "source": [
    "import pandas as pd \n",
    "diabetes= pd.read_csv(\"https://raw.githubusercontent.com/npradaschnor/Pima-Indians-Diabetes-Dataset/master/diabetes.csv\")\n",
    "diabetes.head()"
   ]
  },
  {
   "cell_type": "code",
   "execution_count": 2,
   "id": "bfdb68cb",
   "metadata": {
    "execution": {
     "iopub.execute_input": "2023-04-15T11:41:41.808147Z",
     "iopub.status.busy": "2023-04-15T11:41:41.807395Z",
     "iopub.status.idle": "2023-04-15T11:41:41.815972Z",
     "shell.execute_reply": "2023-04-15T11:41:41.814586Z"
    },
    "papermill": {
     "duration": 0.01872,
     "end_time": "2023-04-15T11:41:41.818907",
     "exception": false,
     "start_time": "2023-04-15T11:41:41.800187",
     "status": "completed"
    },
    "tags": []
   },
   "outputs": [
    {
     "data": {
      "text/plain": [
       "Index(['Pregnancies', 'Glucose', 'BloodPressure', 'SkinThickness', 'Insulin',\n",
       "       'BMI', 'DiabetesPedigreeFunction', 'Age', 'Outcome'],\n",
       "      dtype='object')"
      ]
     },
     "execution_count": 2,
     "metadata": {},
     "output_type": "execute_result"
    }
   ],
   "source": [
    "diabetes.columns"
   ]
  },
  {
   "cell_type": "code",
   "execution_count": 3,
   "id": "0c43e8a7",
   "metadata": {
    "execution": {
     "iopub.execute_input": "2023-04-15T11:41:41.833153Z",
     "iopub.status.busy": "2023-04-15T11:41:41.832021Z",
     "iopub.status.idle": "2023-04-15T11:41:41.846928Z",
     "shell.execute_reply": "2023-04-15T11:41:41.845743Z"
    },
    "papermill": {
     "duration": 0.024923,
     "end_time": "2023-04-15T11:41:41.849440",
     "exception": false,
     "start_time": "2023-04-15T11:41:41.824517",
     "status": "completed"
    },
    "tags": []
   },
   "outputs": [],
   "source": [
    "# define y(target) and x(feature)\n",
    "y=diabetes['Age']\n",
    "x=diabetes[['Pregnancies', 'Glucose', 'BloodPressure', 'SkinThickness', 'Insulin','BMI', 'DiabetesPedigreeFunction','Outcome']]"
   ]
  },
  {
   "cell_type": "code",
   "execution_count": 4,
   "id": "830658ba",
   "metadata": {
    "execution": {
     "iopub.execute_input": "2023-04-15T11:41:41.863012Z",
     "iopub.status.busy": "2023-04-15T11:41:41.862466Z",
     "iopub.status.idle": "2023-04-15T11:41:43.083017Z",
     "shell.execute_reply": "2023-04-15T11:41:43.081857Z"
    },
    "papermill": {
     "duration": 1.230831,
     "end_time": "2023-04-15T11:41:43.085963",
     "exception": false,
     "start_time": "2023-04-15T11:41:41.855132",
     "status": "completed"
    },
    "tags": []
   },
   "outputs": [],
   "source": [
    "# import train_test_split function from sklearn library\n",
    "from sklearn.model_selection import train_test_split\n",
    "x_train,x_test,y_train,y_test=train_test_split(x,y,random_state=100)"
   ]
  },
  {
   "cell_type": "code",
   "execution_count": 5,
   "id": "c21912e5",
   "metadata": {
    "execution": {
     "iopub.execute_input": "2023-04-15T11:41:43.099514Z",
     "iopub.status.busy": "2023-04-15T11:41:43.098992Z",
     "iopub.status.idle": "2023-04-15T11:41:43.120465Z",
     "shell.execute_reply": "2023-04-15T11:41:43.119217Z"
    },
    "papermill": {
     "duration": 0.031318,
     "end_time": "2023-04-15T11:41:43.122943",
     "exception": false,
     "start_time": "2023-04-15T11:41:43.091625",
     "status": "completed"
    },
    "tags": []
   },
   "outputs": [
    {
     "data": {
      "text/html": [
       "<div>\n",
       "<style scoped>\n",
       "    .dataframe tbody tr th:only-of-type {\n",
       "        vertical-align: middle;\n",
       "    }\n",
       "\n",
       "    .dataframe tbody tr th {\n",
       "        vertical-align: top;\n",
       "    }\n",
       "\n",
       "    .dataframe thead th {\n",
       "        text-align: right;\n",
       "    }\n",
       "</style>\n",
       "<table border=\"1\" class=\"dataframe\">\n",
       "  <thead>\n",
       "    <tr style=\"text-align: right;\">\n",
       "      <th></th>\n",
       "      <th>Pregnancies</th>\n",
       "      <th>Glucose</th>\n",
       "      <th>BloodPressure</th>\n",
       "      <th>SkinThickness</th>\n",
       "      <th>Insulin</th>\n",
       "      <th>BMI</th>\n",
       "      <th>DiabetesPedigreeFunction</th>\n",
       "      <th>Outcome</th>\n",
       "    </tr>\n",
       "  </thead>\n",
       "  <tbody>\n",
       "    <tr>\n",
       "      <th>579</th>\n",
       "      <td>2</td>\n",
       "      <td>197</td>\n",
       "      <td>70</td>\n",
       "      <td>99</td>\n",
       "      <td>0</td>\n",
       "      <td>34.7</td>\n",
       "      <td>0.575</td>\n",
       "      <td>1</td>\n",
       "    </tr>\n",
       "    <tr>\n",
       "      <th>46</th>\n",
       "      <td>1</td>\n",
       "      <td>146</td>\n",
       "      <td>56</td>\n",
       "      <td>0</td>\n",
       "      <td>0</td>\n",
       "      <td>29.7</td>\n",
       "      <td>0.564</td>\n",
       "      <td>0</td>\n",
       "    </tr>\n",
       "    <tr>\n",
       "      <th>508</th>\n",
       "      <td>2</td>\n",
       "      <td>84</td>\n",
       "      <td>50</td>\n",
       "      <td>23</td>\n",
       "      <td>76</td>\n",
       "      <td>30.4</td>\n",
       "      <td>0.968</td>\n",
       "      <td>0</td>\n",
       "    </tr>\n",
       "    <tr>\n",
       "      <th>384</th>\n",
       "      <td>1</td>\n",
       "      <td>125</td>\n",
       "      <td>70</td>\n",
       "      <td>24</td>\n",
       "      <td>110</td>\n",
       "      <td>24.3</td>\n",
       "      <td>0.221</td>\n",
       "      <td>0</td>\n",
       "    </tr>\n",
       "    <tr>\n",
       "      <th>163</th>\n",
       "      <td>2</td>\n",
       "      <td>100</td>\n",
       "      <td>64</td>\n",
       "      <td>23</td>\n",
       "      <td>0</td>\n",
       "      <td>29.7</td>\n",
       "      <td>0.368</td>\n",
       "      <td>0</td>\n",
       "    </tr>\n",
       "    <tr>\n",
       "      <th>...</th>\n",
       "      <td>...</td>\n",
       "      <td>...</td>\n",
       "      <td>...</td>\n",
       "      <td>...</td>\n",
       "      <td>...</td>\n",
       "      <td>...</td>\n",
       "      <td>...</td>\n",
       "      <td>...</td>\n",
       "    </tr>\n",
       "    <tr>\n",
       "      <th>578</th>\n",
       "      <td>10</td>\n",
       "      <td>133</td>\n",
       "      <td>68</td>\n",
       "      <td>0</td>\n",
       "      <td>0</td>\n",
       "      <td>27.0</td>\n",
       "      <td>0.245</td>\n",
       "      <td>0</td>\n",
       "    </tr>\n",
       "    <tr>\n",
       "      <th>53</th>\n",
       "      <td>8</td>\n",
       "      <td>176</td>\n",
       "      <td>90</td>\n",
       "      <td>34</td>\n",
       "      <td>300</td>\n",
       "      <td>33.7</td>\n",
       "      <td>0.467</td>\n",
       "      <td>1</td>\n",
       "    </tr>\n",
       "    <tr>\n",
       "      <th>350</th>\n",
       "      <td>4</td>\n",
       "      <td>92</td>\n",
       "      <td>80</td>\n",
       "      <td>0</td>\n",
       "      <td>0</td>\n",
       "      <td>42.2</td>\n",
       "      <td>0.237</td>\n",
       "      <td>0</td>\n",
       "    </tr>\n",
       "    <tr>\n",
       "      <th>79</th>\n",
       "      <td>2</td>\n",
       "      <td>112</td>\n",
       "      <td>66</td>\n",
       "      <td>22</td>\n",
       "      <td>0</td>\n",
       "      <td>25.0</td>\n",
       "      <td>0.307</td>\n",
       "      <td>0</td>\n",
       "    </tr>\n",
       "    <tr>\n",
       "      <th>520</th>\n",
       "      <td>2</td>\n",
       "      <td>68</td>\n",
       "      <td>70</td>\n",
       "      <td>32</td>\n",
       "      <td>66</td>\n",
       "      <td>25.0</td>\n",
       "      <td>0.187</td>\n",
       "      <td>0</td>\n",
       "    </tr>\n",
       "  </tbody>\n",
       "</table>\n",
       "<p>576 rows × 8 columns</p>\n",
       "</div>"
      ],
      "text/plain": [
       "     Pregnancies  Glucose  BloodPressure  SkinThickness  Insulin   BMI  \\\n",
       "579            2      197             70             99        0  34.7   \n",
       "46             1      146             56              0        0  29.7   \n",
       "508            2       84             50             23       76  30.4   \n",
       "384            1      125             70             24      110  24.3   \n",
       "163            2      100             64             23        0  29.7   \n",
       "..           ...      ...            ...            ...      ...   ...   \n",
       "578           10      133             68              0        0  27.0   \n",
       "53             8      176             90             34      300  33.7   \n",
       "350            4       92             80              0        0  42.2   \n",
       "79             2      112             66             22        0  25.0   \n",
       "520            2       68             70             32       66  25.0   \n",
       "\n",
       "     DiabetesPedigreeFunction  Outcome  \n",
       "579                     0.575        1  \n",
       "46                      0.564        0  \n",
       "508                     0.968        0  \n",
       "384                     0.221        0  \n",
       "163                     0.368        0  \n",
       "..                        ...      ...  \n",
       "578                     0.245        0  \n",
       "53                      0.467        1  \n",
       "350                     0.237        0  \n",
       "79                      0.307        0  \n",
       "520                     0.187        0  \n",
       "\n",
       "[576 rows x 8 columns]"
      ]
     },
     "execution_count": 5,
     "metadata": {},
     "output_type": "execute_result"
    }
   ],
   "source": [
    "x_train"
   ]
  },
  {
   "cell_type": "code",
   "execution_count": 6,
   "id": "6e55929a",
   "metadata": {
    "execution": {
     "iopub.execute_input": "2023-04-15T11:41:43.137603Z",
     "iopub.status.busy": "2023-04-15T11:41:43.137122Z",
     "iopub.status.idle": "2023-04-15T11:41:43.158946Z",
     "shell.execute_reply": "2023-04-15T11:41:43.157568Z"
    },
    "papermill": {
     "duration": 0.033047,
     "end_time": "2023-04-15T11:41:43.161849",
     "exception": false,
     "start_time": "2023-04-15T11:41:43.128802",
     "status": "completed"
    },
    "tags": []
   },
   "outputs": [
    {
     "data": {
      "text/html": [
       "<div>\n",
       "<style scoped>\n",
       "    .dataframe tbody tr th:only-of-type {\n",
       "        vertical-align: middle;\n",
       "    }\n",
       "\n",
       "    .dataframe tbody tr th {\n",
       "        vertical-align: top;\n",
       "    }\n",
       "\n",
       "    .dataframe thead th {\n",
       "        text-align: right;\n",
       "    }\n",
       "</style>\n",
       "<table border=\"1\" class=\"dataframe\">\n",
       "  <thead>\n",
       "    <tr style=\"text-align: right;\">\n",
       "      <th></th>\n",
       "      <th>Pregnancies</th>\n",
       "      <th>Glucose</th>\n",
       "      <th>BloodPressure</th>\n",
       "      <th>SkinThickness</th>\n",
       "      <th>Insulin</th>\n",
       "      <th>BMI</th>\n",
       "      <th>DiabetesPedigreeFunction</th>\n",
       "      <th>Outcome</th>\n",
       "    </tr>\n",
       "  </thead>\n",
       "  <tbody>\n",
       "    <tr>\n",
       "      <th>173</th>\n",
       "      <td>1</td>\n",
       "      <td>79</td>\n",
       "      <td>60</td>\n",
       "      <td>42</td>\n",
       "      <td>48</td>\n",
       "      <td>43.5</td>\n",
       "      <td>0.678</td>\n",
       "      <td>0</td>\n",
       "    </tr>\n",
       "    <tr>\n",
       "      <th>253</th>\n",
       "      <td>0</td>\n",
       "      <td>86</td>\n",
       "      <td>68</td>\n",
       "      <td>32</td>\n",
       "      <td>0</td>\n",
       "      <td>35.8</td>\n",
       "      <td>0.238</td>\n",
       "      <td>0</td>\n",
       "    </tr>\n",
       "    <tr>\n",
       "      <th>207</th>\n",
       "      <td>5</td>\n",
       "      <td>162</td>\n",
       "      <td>104</td>\n",
       "      <td>0</td>\n",
       "      <td>0</td>\n",
       "      <td>37.7</td>\n",
       "      <td>0.151</td>\n",
       "      <td>1</td>\n",
       "    </tr>\n",
       "    <tr>\n",
       "      <th>737</th>\n",
       "      <td>8</td>\n",
       "      <td>65</td>\n",
       "      <td>72</td>\n",
       "      <td>23</td>\n",
       "      <td>0</td>\n",
       "      <td>32.0</td>\n",
       "      <td>0.600</td>\n",
       "      <td>0</td>\n",
       "    </tr>\n",
       "    <tr>\n",
       "      <th>191</th>\n",
       "      <td>9</td>\n",
       "      <td>123</td>\n",
       "      <td>70</td>\n",
       "      <td>44</td>\n",
       "      <td>94</td>\n",
       "      <td>33.1</td>\n",
       "      <td>0.374</td>\n",
       "      <td>0</td>\n",
       "    </tr>\n",
       "    <tr>\n",
       "      <th>...</th>\n",
       "      <td>...</td>\n",
       "      <td>...</td>\n",
       "      <td>...</td>\n",
       "      <td>...</td>\n",
       "      <td>...</td>\n",
       "      <td>...</td>\n",
       "      <td>...</td>\n",
       "      <td>...</td>\n",
       "    </tr>\n",
       "    <tr>\n",
       "      <th>594</th>\n",
       "      <td>6</td>\n",
       "      <td>123</td>\n",
       "      <td>72</td>\n",
       "      <td>45</td>\n",
       "      <td>230</td>\n",
       "      <td>33.6</td>\n",
       "      <td>0.733</td>\n",
       "      <td>0</td>\n",
       "    </tr>\n",
       "    <tr>\n",
       "      <th>254</th>\n",
       "      <td>12</td>\n",
       "      <td>92</td>\n",
       "      <td>62</td>\n",
       "      <td>7</td>\n",
       "      <td>258</td>\n",
       "      <td>27.6</td>\n",
       "      <td>0.926</td>\n",
       "      <td>1</td>\n",
       "    </tr>\n",
       "    <tr>\n",
       "      <th>569</th>\n",
       "      <td>0</td>\n",
       "      <td>121</td>\n",
       "      <td>66</td>\n",
       "      <td>30</td>\n",
       "      <td>165</td>\n",
       "      <td>34.3</td>\n",
       "      <td>0.203</td>\n",
       "      <td>1</td>\n",
       "    </tr>\n",
       "    <tr>\n",
       "      <th>588</th>\n",
       "      <td>3</td>\n",
       "      <td>176</td>\n",
       "      <td>86</td>\n",
       "      <td>27</td>\n",
       "      <td>156</td>\n",
       "      <td>33.3</td>\n",
       "      <td>1.154</td>\n",
       "      <td>1</td>\n",
       "    </tr>\n",
       "    <tr>\n",
       "      <th>599</th>\n",
       "      <td>1</td>\n",
       "      <td>109</td>\n",
       "      <td>38</td>\n",
       "      <td>18</td>\n",
       "      <td>120</td>\n",
       "      <td>23.1</td>\n",
       "      <td>0.407</td>\n",
       "      <td>0</td>\n",
       "    </tr>\n",
       "  </tbody>\n",
       "</table>\n",
       "<p>192 rows × 8 columns</p>\n",
       "</div>"
      ],
      "text/plain": [
       "     Pregnancies  Glucose  BloodPressure  SkinThickness  Insulin   BMI  \\\n",
       "173            1       79             60             42       48  43.5   \n",
       "253            0       86             68             32        0  35.8   \n",
       "207            5      162            104              0        0  37.7   \n",
       "737            8       65             72             23        0  32.0   \n",
       "191            9      123             70             44       94  33.1   \n",
       "..           ...      ...            ...            ...      ...   ...   \n",
       "594            6      123             72             45      230  33.6   \n",
       "254           12       92             62              7      258  27.6   \n",
       "569            0      121             66             30      165  34.3   \n",
       "588            3      176             86             27      156  33.3   \n",
       "599            1      109             38             18      120  23.1   \n",
       "\n",
       "     DiabetesPedigreeFunction  Outcome  \n",
       "173                     0.678        0  \n",
       "253                     0.238        0  \n",
       "207                     0.151        1  \n",
       "737                     0.600        0  \n",
       "191                     0.374        0  \n",
       "..                        ...      ...  \n",
       "594                     0.733        0  \n",
       "254                     0.926        1  \n",
       "569                     0.203        1  \n",
       "588                     1.154        1  \n",
       "599                     0.407        0  \n",
       "\n",
       "[192 rows x 8 columns]"
      ]
     },
     "execution_count": 6,
     "metadata": {},
     "output_type": "execute_result"
    }
   ],
   "source": [
    "x_test"
   ]
  },
  {
   "cell_type": "code",
   "execution_count": 7,
   "id": "a7d33339",
   "metadata": {
    "execution": {
     "iopub.execute_input": "2023-04-15T11:41:43.177802Z",
     "iopub.status.busy": "2023-04-15T11:41:43.176786Z",
     "iopub.status.idle": "2023-04-15T11:41:43.187447Z",
     "shell.execute_reply": "2023-04-15T11:41:43.186003Z"
    },
    "papermill": {
     "duration": 0.021562,
     "end_time": "2023-04-15T11:41:43.190134",
     "exception": false,
     "start_time": "2023-04-15T11:41:43.168572",
     "status": "completed"
    },
    "tags": []
   },
   "outputs": [
    {
     "data": {
      "text/plain": [
       "579    62\n",
       "46     29\n",
       "508    21\n",
       "384    25\n",
       "163    21\n",
       "       ..\n",
       "578    36\n",
       "53     58\n",
       "350    29\n",
       "79     24\n",
       "520    25\n",
       "Name: Age, Length: 576, dtype: int64"
      ]
     },
     "execution_count": 7,
     "metadata": {},
     "output_type": "execute_result"
    }
   ],
   "source": [
    "y_train"
   ]
  },
  {
   "cell_type": "code",
   "execution_count": 8,
   "id": "5524f1ef",
   "metadata": {
    "execution": {
     "iopub.execute_input": "2023-04-15T11:41:43.205497Z",
     "iopub.status.busy": "2023-04-15T11:41:43.204257Z",
     "iopub.status.idle": "2023-04-15T11:41:43.214884Z",
     "shell.execute_reply": "2023-04-15T11:41:43.213464Z"
    },
    "papermill": {
     "duration": 0.021417,
     "end_time": "2023-04-15T11:41:43.217784",
     "exception": false,
     "start_time": "2023-04-15T11:41:43.196367",
     "status": "completed"
    },
    "tags": []
   },
   "outputs": [
    {
     "data": {
      "text/plain": [
       "173    23\n",
       "253    25\n",
       "207    52\n",
       "737    42\n",
       "191    40\n",
       "       ..\n",
       "594    34\n",
       "254    44\n",
       "569    33\n",
       "588    52\n",
       "599    26\n",
       "Name: Age, Length: 192, dtype: int64"
      ]
     },
     "execution_count": 8,
     "metadata": {},
     "output_type": "execute_result"
    }
   ],
   "source": [
    "y_test"
   ]
  },
  {
   "cell_type": "code",
   "execution_count": 9,
   "id": "0c91812a",
   "metadata": {
    "execution": {
     "iopub.execute_input": "2023-04-15T11:41:43.232934Z",
     "iopub.status.busy": "2023-04-15T11:41:43.232436Z",
     "iopub.status.idle": "2023-04-15T11:41:43.336483Z",
     "shell.execute_reply": "2023-04-15T11:41:43.334992Z"
    },
    "papermill": {
     "duration": 0.115345,
     "end_time": "2023-04-15T11:41:43.339536",
     "exception": false,
     "start_time": "2023-04-15T11:41:43.224191",
     "status": "completed"
    },
    "tags": []
   },
   "outputs": [],
   "source": [
    "# select model\n",
    "from sklearn.linear_model import LinearRegression\n",
    "model=LinearRegression()"
   ]
  },
  {
   "cell_type": "code",
   "execution_count": 10,
   "id": "ba6f7468",
   "metadata": {
    "execution": {
     "iopub.execute_input": "2023-04-15T11:41:43.354412Z",
     "iopub.status.busy": "2023-04-15T11:41:43.353908Z",
     "iopub.status.idle": "2023-04-15T11:41:43.391138Z",
     "shell.execute_reply": "2023-04-15T11:41:43.389484Z"
    },
    "papermill": {
     "duration": 0.048034,
     "end_time": "2023-04-15T11:41:43.393889",
     "exception": false,
     "start_time": "2023-04-15T11:41:43.345855",
     "status": "completed"
    },
    "tags": []
   },
   "outputs": [
    {
     "data": {
      "text/plain": [
       "LinearRegression()"
      ]
     },
     "execution_count": 10,
     "metadata": {},
     "output_type": "execute_result"
    }
   ],
   "source": [
    "# train model\n",
    "model.fit(x_train,y_train)"
   ]
  },
  {
   "cell_type": "code",
   "execution_count": 11,
   "id": "eaf881d4",
   "metadata": {
    "execution": {
     "iopub.execute_input": "2023-04-15T11:41:43.409876Z",
     "iopub.status.busy": "2023-04-15T11:41:43.408638Z",
     "iopub.status.idle": "2023-04-15T11:41:43.416755Z",
     "shell.execute_reply": "2023-04-15T11:41:43.415533Z"
    },
    "papermill": {
     "duration": 0.019184,
     "end_time": "2023-04-15T11:41:43.419492",
     "exception": false,
     "start_time": "2023-04-15T11:41:43.400308",
     "status": "completed"
    },
    "tags": []
   },
   "outputs": [],
   "source": [
    "# predict model\n",
    "y_pred= model.predict(x_test)"
   ]
  },
  {
   "cell_type": "code",
   "execution_count": 12,
   "id": "b7fdb287",
   "metadata": {
    "execution": {
     "iopub.execute_input": "2023-04-15T11:41:43.435122Z",
     "iopub.status.busy": "2023-04-15T11:41:43.434041Z",
     "iopub.status.idle": "2023-04-15T11:41:43.442183Z",
     "shell.execute_reply": "2023-04-15T11:41:43.440973Z"
    },
    "papermill": {
     "duration": 0.018683,
     "end_time": "2023-04-15T11:41:43.444623",
     "exception": false,
     "start_time": "2023-04-15T11:41:43.425940",
     "status": "completed"
    },
    "tags": []
   },
   "outputs": [
    {
     "data": {
      "text/plain": [
       "array([ 1.57831723,  0.05265185,  0.10366172, -0.06649126, -0.00372623,\n",
       "       -0.06630175,  0.82495326,  2.2434364 ])"
      ]
     },
     "execution_count": 12,
     "metadata": {},
     "output_type": "execute_result"
    }
   ],
   "source": [
    "model.coef_"
   ]
  },
  {
   "cell_type": "code",
   "execution_count": 13,
   "id": "089a3976",
   "metadata": {
    "execution": {
     "iopub.execute_input": "2023-04-15T11:41:43.460469Z",
     "iopub.status.busy": "2023-04-15T11:41:43.459224Z",
     "iopub.status.idle": "2023-04-15T11:41:43.467485Z",
     "shell.execute_reply": "2023-04-15T11:41:43.466329Z"
    },
    "papermill": {
     "duration": 0.019152,
     "end_time": "2023-04-15T11:41:43.470158",
     "exception": false,
     "start_time": "2023-04-15T11:41:43.451006",
     "status": "completed"
    },
    "tags": []
   },
   "outputs": [
    {
     "data": {
      "text/plain": [
       "16.3347445881414"
      ]
     },
     "execution_count": 13,
     "metadata": {},
     "output_type": "execute_result"
    }
   ],
   "source": [
    "model.intercept_"
   ]
  },
  {
   "cell_type": "code",
   "execution_count": 14,
   "id": "c0dc36f9",
   "metadata": {
    "execution": {
     "iopub.execute_input": "2023-04-15T11:41:43.485976Z",
     "iopub.status.busy": "2023-04-15T11:41:43.485525Z",
     "iopub.status.idle": "2023-04-15T11:41:43.494265Z",
     "shell.execute_reply": "2023-04-15T11:41:43.493027Z"
    },
    "papermill": {
     "duration": 0.019701,
     "end_time": "2023-04-15T11:41:43.496729",
     "exception": false,
     "start_time": "2023-04-15T11:41:43.477028",
     "status": "completed"
    },
    "tags": []
   },
   "outputs": [
    {
     "data": {
      "text/plain": [
       "6.800473572084875"
      ]
     },
     "execution_count": 14,
     "metadata": {},
     "output_type": "execute_result"
    }
   ],
   "source": [
    "from sklearn.metrics import mean_absolute_error,mean_absolute_percentage_error,mean_squared_error\n",
    "mean_absolute_error(y_test,y_pred)"
   ]
  },
  {
   "cell_type": "code",
   "execution_count": 15,
   "id": "a81522b3",
   "metadata": {
    "execution": {
     "iopub.execute_input": "2023-04-15T11:41:43.514069Z",
     "iopub.status.busy": "2023-04-15T11:41:43.513153Z",
     "iopub.status.idle": "2023-04-15T11:41:43.521935Z",
     "shell.execute_reply": "2023-04-15T11:41:43.520588Z"
    },
    "papermill": {
     "duration": 0.021435,
     "end_time": "2023-04-15T11:41:43.524810",
     "exception": false,
     "start_time": "2023-04-15T11:41:43.503375",
     "status": "completed"
    },
    "tags": []
   },
   "outputs": [
    {
     "data": {
      "text/plain": [
       "0.2023058434126339"
      ]
     },
     "execution_count": 15,
     "metadata": {},
     "output_type": "execute_result"
    }
   ],
   "source": [
    "mean_absolute_percentage_error(y_test,y_pred)"
   ]
  },
  {
   "cell_type": "code",
   "execution_count": 16,
   "id": "be974d1e",
   "metadata": {
    "execution": {
     "iopub.execute_input": "2023-04-15T11:41:43.541223Z",
     "iopub.status.busy": "2023-04-15T11:41:43.540022Z",
     "iopub.status.idle": "2023-04-15T11:41:43.549127Z",
     "shell.execute_reply": "2023-04-15T11:41:43.547877Z"
    },
    "papermill": {
     "duration": 0.020252,
     "end_time": "2023-04-15T11:41:43.551828",
     "exception": false,
     "start_time": "2023-04-15T11:41:43.531576",
     "status": "completed"
    },
    "tags": []
   },
   "outputs": [
    {
     "data": {
      "text/plain": [
       "84.27138128037414"
      ]
     },
     "execution_count": 16,
     "metadata": {},
     "output_type": "execute_result"
    }
   ],
   "source": [
    "mean_squared_error(y_test,y_pred)"
   ]
  },
  {
   "cell_type": "code",
   "execution_count": null,
   "id": "715cefd2",
   "metadata": {
    "papermill": {
     "duration": 0.006494,
     "end_time": "2023-04-15T11:41:43.565130",
     "exception": false,
     "start_time": "2023-04-15T11:41:43.558636",
     "status": "completed"
    },
    "tags": []
   },
   "outputs": [],
   "source": []
  }
 ],
 "metadata": {
  "kernelspec": {
   "display_name": "Python 3",
   "language": "python",
   "name": "python3"
  },
  "language_info": {
   "codemirror_mode": {
    "name": "ipython",
    "version": 3
   },
   "file_extension": ".py",
   "mimetype": "text/x-python",
   "name": "python",
   "nbconvert_exporter": "python",
   "pygments_lexer": "ipython3",
   "version": "3.7.12"
  },
  "papermill": {
   "default_parameters": {},
   "duration": 14.288603,
   "end_time": "2023-04-15T11:41:44.397178",
   "environment_variables": {},
   "exception": null,
   "input_path": "__notebook__.ipynb",
   "output_path": "__notebook__.ipynb",
   "parameters": {},
   "start_time": "2023-04-15T11:41:30.108575",
   "version": "2.4.0"
  }
 },
 "nbformat": 4,
 "nbformat_minor": 5
}
